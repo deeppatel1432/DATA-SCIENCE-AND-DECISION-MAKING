{
 "cells": [
  {
   "cell_type": "code",
   "execution_count": 142,
   "id": "14a922c0",
   "metadata": {},
   "outputs": [],
   "source": [
    "#importing necessary libraries for the model..\n",
    "import numpy as np\n",
    "from sklearn.neighbors import KNeighborsClassifier\n",
    "import matplotlib.pyplot as plt\n",
    "from sklearn.model_selection import train_test_split\n",
    "import pandas as pd\n",
    "from sklearn import linear_model #for linear regression\n"
   ]
  },
  {
   "cell_type": "code",
   "execution_count": 143,
   "id": "9bcc191b",
   "metadata": {},
   "outputs": [],
   "source": [
    "#defining the function to open the excel file\n",
    "def retrieveExcelfile(excelfile):\n",
    "    dataframe = pd.ExcelFile(excelfile)\n",
    "    return dataframe"
   ]
  },
  {
   "cell_type": "code",
   "execution_count": 144,
   "id": "d56a45ed",
   "metadata": {},
   "outputs": [],
   "source": [
    "#load the excelfile"
   ]
  },
  {
   "cell_type": "code",
   "execution_count": 145,
   "id": "09b0f8b6",
   "metadata": {},
   "outputs": [],
   "source": [
    "df=retrieveExcelfile(\"datasets/Data2.xlsx\")"
   ]
  },
  {
   "cell_type": "code",
   "execution_count": 146,
   "id": "3576826c",
   "metadata": {},
   "outputs": [],
   "source": [
    "#display the dataframes"
   ]
  },
  {
   "cell_type": "code",
   "execution_count": 147,
   "id": "349bf3fc",
   "metadata": {},
   "outputs": [],
   "source": [
    "#output thge plants dataset"
   ]
  },
  {
   "cell_type": "code",
   "execution_count": 148,
   "id": "dcaeb4bc",
   "metadata": {},
   "outputs": [],
   "source": [
    "df1 =pd.read_excel(df,'plants')"
   ]
  },
  {
   "cell_type": "code",
   "execution_count": 149,
   "id": "7f7b3646",
   "metadata": {},
   "outputs": [
    {
     "name": "stdout",
     "output_type": "stream",
     "text": [
      "      Batch Number Plant Date  Class  Fresh Weight (g)  Head Weight (g)  \\\n",
      "0              402 2020-04-11      3              15.0              NaN   \n",
      "1              402 2020-04-11      4              15.0              NaN   \n",
      "2              402 2020-04-11      1              16.0              NaN   \n",
      "3              402 2020-04-11      3              15.0              NaN   \n",
      "4              402 2020-04-11      3              15.0              NaN   \n",
      "...            ...        ...    ...               ...              ...   \n",
      "4854           738 2020-08-27      4             284.0             12.0   \n",
      "4855           738 2020-08-27      5             199.0              8.0   \n",
      "4856           738 2020-08-27      3             280.0             23.0   \n",
      "4857           738 2020-08-27      4             247.0             10.0   \n",
      "4858           738 2020-08-27      2             183.0             18.0   \n",
      "\n",
      "      Radial Diameter (mm)  Polar Diameter (mm)  Diameter Ratio  Leaves  \\\n",
      "0                      NaN                  NaN             NaN    10.0   \n",
      "1                      NaN                  NaN             NaN    11.0   \n",
      "2                      NaN                  NaN             NaN    12.0   \n",
      "3                      NaN                  NaN             NaN    10.0   \n",
      "4                      NaN                  NaN             NaN    11.0   \n",
      "...                    ...                  ...             ...     ...   \n",
      "4854                  50.0                 55.0        0.909091     NaN   \n",
      "4855                  45.0                 85.0        0.529412     NaN   \n",
      "4856                  60.0                 80.0        0.750000     NaN   \n",
      "4857                  45.0                 80.0        0.562500     NaN   \n",
      "4858                  35.0                102.0        0.343137     NaN   \n",
      "\n",
      "      Density (kg/L)  Leaf Area (cm^2)  Square ID Check Date Flight Date  \\\n",
      "0                NaN             185.0        208 2020-04-30         NaT   \n",
      "1                NaN             156.0        208 2020-04-30         NaT   \n",
      "2                NaN             137.0        208 2020-04-30         NaT   \n",
      "3                NaN             225.0        208 2020-04-30         NaT   \n",
      "4                NaN             157.0        208 2020-04-30         NaT   \n",
      "...              ...               ...        ...        ...         ...   \n",
      "4854             NaN             430.0       1172 2020-10-20         NaT   \n",
      "4855             NaN             358.0       1172 2020-10-20         NaT   \n",
      "4856             NaN             417.0       1172 2020-10-20         NaT   \n",
      "4857             NaN             413.0       1172 2020-10-20         NaT   \n",
      "4858             NaN             316.0       1172 2020-10-20         NaT   \n",
      "\n",
      "     Remove  \n",
      "0       NaN  \n",
      "1       NaN  \n",
      "2       NaN  \n",
      "3       NaN  \n",
      "4       NaN  \n",
      "...     ...  \n",
      "4854    NaN  \n",
      "4855    NaN  \n",
      "4856    NaN  \n",
      "4857    NaN  \n",
      "4858    NaN  \n",
      "\n",
      "[4859 rows x 15 columns]\n"
     ]
    }
   ],
   "source": [
    "print(df1)"
   ]
  },
  {
   "cell_type": "code",
   "execution_count": 150,
   "id": "1dda2bfb",
   "metadata": {},
   "outputs": [],
   "source": [
    "#display the plants columns in the dataset:"
   ]
  },
  {
   "cell_type": "code",
   "execution_count": 151,
   "id": "56c85384",
   "metadata": {},
   "outputs": [
    {
     "name": "stdout",
     "output_type": "stream",
     "text": [
      "Index(['Batch Number', 'Plant Date', 'Class', 'Fresh Weight (g)',\n",
      "       'Head Weight (g)', 'Radial Diameter (mm)', 'Polar Diameter (mm)',\n",
      "       'Diameter Ratio', 'Leaves', 'Density (kg/L)', 'Leaf Area (cm^2)',\n",
      "       'Square ID', 'Check Date', 'Flight Date', 'Remove'],\n",
      "      dtype='object')\n"
     ]
    }
   ],
   "source": [
    "print(df1.columns)"
   ]
  },
  {
   "cell_type": "code",
   "execution_count": 152,
   "id": "1f58b6e8",
   "metadata": {},
   "outputs": [],
   "source": [
    "#rename the columns so that the plants dataset becomes usable:"
   ]
  },
  {
   "cell_type": "code",
   "execution_count": 153,
   "id": "15b309bd",
   "metadata": {},
   "outputs": [],
   "source": [
    "df1.rename(columns={'Batch Number': 'Batch_Number','Plant Date':'Plant_Date','Fresh Weight (g)':'Fresh_Weight','Head Weight (g)':'Head_Weight','Radial Diameter (mm)':'Radial_Diameter','Radial Diameter (mm)':'Radial_Diameter','Polar Diameter (mm)':'Polar_Diameter','Diameter Ratio':'Diameter_Ratio','Density (kg/L)':'Density','Leaf Area (cm^2)':'Leaf_Area','Square ID':'Square_ID','Check Date':'Check_Date','Flight Date':'Flight_Date'}, inplace=True)"
   ]
  },
  {
   "cell_type": "code",
   "execution_count": 154,
   "id": "f43b15ab",
   "metadata": {},
   "outputs": [],
   "source": [
    "#plot"
   ]
  },
  {
   "cell_type": "code",
   "execution_count": 157,
   "id": "04ed15d1",
   "metadata": {},
   "outputs": [
    {
     "data": {
      "text/plain": [
       "<AxesSubplot:xlabel='Square_ID', ylabel='Leaf_Area'>"
      ]
     },
     "execution_count": 157,
     "metadata": {},
     "output_type": "execute_result"
    },
    {
     "data": {
      "image/png": "[encoded data removed]",
      "text/plain": [
       "<Figure size 432x288 with 1 Axes>"
      ]
     },
     "metadata": {
      "needs_background": "light"
     },
     "output_type": "display_data"
    }
   ],
   "source": [
    "df1.plot(x ='Square_ID', y='Leaf_Area', kind = 'scatter') #per square id"
   ]
  },
  {
   "cell_type": "code",
   "execution_count": 158,
   "id": "aa9de154",
   "metadata": {},
   "outputs": [],
   "source": [
    "plt.show()"
   ]
  },
  {
   "cell_type": "code",
   "execution_count": 159,
   "id": "b6874992",
   "metadata": {},
   "outputs": [],
   "source": [
    "#display the renamed plants columns"
   ]
  },
  {
   "cell_type": "code",
   "execution_count": 160,
   "id": "b6b8ee45",
   "metadata": {},
   "outputs": [
    {
     "data": {
      "text/plain": [
       "Index(['Batch_Number', 'Plant_Date', 'Class', 'Fresh_Weight', 'Head_Weight',\n",
       "       'Radial_Diameter', 'Polar_Diameter', 'Diameter_Ratio', 'Leaves',\n",
       "       'Density', 'Leaf_Area', 'Square_ID', 'Check_Date', 'Flight_Date',\n",
       "       'Remove'],\n",
       "      dtype='object')"
      ]
     },
     "execution_count": 160,
     "metadata": {},
     "output_type": "execute_result"
    }
   ],
   "source": [
    "df1.columns"
   ]
  },
  {
   "cell_type": "code",
   "execution_count": 161,
   "id": "f9b02818",
   "metadata": {},
   "outputs": [],
   "source": [
    "#load the flight dates dataset"
   ]
  },
  {
   "cell_type": "code",
   "execution_count": 162,
   "id": "01450880",
   "metadata": {},
   "outputs": [],
   "source": [
    "df2 =pd.read_excel(df,'flight dates')"
   ]
  },
  {
   "cell_type": "code",
   "execution_count": 163,
   "id": "a1a88ede",
   "metadata": {},
   "outputs": [],
   "source": [
    "#display flights dataframe:"
   ]
  },
  {
   "cell_type": "code",
   "execution_count": 164,
   "id": "c1938c2c",
   "metadata": {},
   "outputs": [
    {
     "name": "stdout",
     "output_type": "stream",
     "text": [
      "    Batch Number Flight Date\n",
      "0            402  2020-04-30\n",
      "1            408  2020-04-30\n",
      "2            409  2020-04-30\n",
      "3            466  2020-07-01\n",
      "4            467  2020-07-01\n",
      "5            468  2020-07-01\n",
      "6            469  2020-07-06\n",
      "7            471  2020-07-02\n",
      "8            472  2020-07-02\n",
      "9            473  2020-07-02\n",
      "10           474  2020-07-03\n",
      "11           475  2020-07-03\n",
      "12           477  2020-07-03\n",
      "13           478  2020-07-02\n",
      "14           510  2020-07-08\n",
      "15           511  2020-07-15\n",
      "16           514  2020-07-09\n",
      "17           517  2020-07-08\n",
      "18           521  2020-07-08\n",
      "19           534  2020-07-17\n",
      "20           538  2020-07-13\n",
      "21           541  2020-07-13\n",
      "22           542  2020-07-13\n",
      "23           582  2020-07-28\n",
      "24           586  2020-07-28\n",
      "25           587  2020-07-28\n",
      "26           589  2020-07-31\n",
      "27           590  2020-07-31\n",
      "28           596  2020-07-31\n",
      "29           597  2020-07-31\n",
      "30           598  2020-07-31\n",
      "31           607  2020-08-05\n",
      "32           608  2020-08-11\n",
      "33           610  2020-08-05\n",
      "34           611  2020-08-05\n",
      "35           612  2020-08-06\n",
      "36           621  2020-08-12\n",
      "37           622  2020-08-12\n",
      "38           623  2020-08-12\n",
      "39           625  2020-08-13\n",
      "40           627  2020-08-13\n",
      "41           628  2020-08-13\n",
      "42           647  2020-08-26\n",
      "43           649  2020-09-01\n",
      "44           650  2020-08-27\n",
      "45           651  2020-08-27\n",
      "46           689  2020-09-09\n",
      "47           690  2020-09-09\n",
      "48           691  2020-09-10\n",
      "49           693  2020-09-10\n"
     ]
    }
   ],
   "source": [
    "print(df2)"
   ]
  },
  {
   "cell_type": "code",
   "execution_count": 165,
   "id": "554cdc26",
   "metadata": {},
   "outputs": [],
   "source": [
    "#columns available in flight dates datasets"
   ]
  },
  {
   "cell_type": "code",
   "execution_count": 166,
   "id": "a4d0b5d5",
   "metadata": {},
   "outputs": [
    {
     "name": "stdout",
     "output_type": "stream",
     "text": [
      "Index(['Batch Number', 'Flight Date'], dtype='object')\n"
     ]
    }
   ],
   "source": [
    "print(df2.columns)"
   ]
  },
  {
   "cell_type": "code",
   "execution_count": 178,
   "id": "512c2f75",
   "metadata": {},
   "outputs": [
    {
     "data": {
      "text/plain": [
       "<AxesSubplot:xlabel='Flight Date'>"
      ]
     },
     "execution_count": 178,
     "metadata": {},
     "output_type": "execute_result"
    },
    {
     "data": {
      "image/png": "[encoded data removed]",
      "text/plain": [
       "<Figure size 432x288 with 1 Axes>"
      ]
     },
     "metadata": {
      "needs_background": "light"
     },
     "output_type": "display_data"
    }
   ],
   "source": [
    "df2.plot(x ='Flight Date', y='Batch Number', kind = 'line') #per flights per batch number"
   ]
  },
  {
   "cell_type": "code",
   "execution_count": null,
   "id": "aab940c9",
   "metadata": {},
   "outputs": [],
   "source": [
    "plt.show()"
   ]
  },
  {
   "cell_type": "code",
   "execution_count": 167,
   "id": "568e93eb",
   "metadata": {},
   "outputs": [],
   "source": [
    "#load the planting dataset -in a dataframe variable:"
   ]
  },
  {
   "cell_type": "code",
   "execution_count": 168,
   "id": "802a672e",
   "metadata": {},
   "outputs": [],
   "source": [
    "df3 =pd.read_excel(df,'planting')"
   ]
  },
  {
   "cell_type": "code",
   "execution_count": 169,
   "id": "9bd6ef6e",
   "metadata": {},
   "outputs": [],
   "source": [
    "#dataset structure-columkns"
   ]
  },
  {
   "cell_type": "code",
   "execution_count": 170,
   "id": "ceed9e96",
   "metadata": {},
   "outputs": [
    {
     "name": "stdout",
     "output_type": "stream",
     "text": [
      "Index(['Crop', 'Column2', 'Column3', 'Plant_Date', 'Column1', 'Region',\n",
      "       'Column4', 'Planting_Batch', 'Volume_Planted', 'Planting_Wk'],\n",
      "      dtype='object')\n"
     ]
    }
   ],
   "source": [
    "print(df3.columns)"
   ]
  },
  {
   "cell_type": "code",
   "execution_count": null,
   "id": "256fd338",
   "metadata": {},
   "outputs": [],
   "source": []
  },
  {
   "cell_type": "code",
   "execution_count": 171,
   "id": "27282114",
   "metadata": {},
   "outputs": [],
   "source": [
    "#dataset"
   ]
  },
  {
   "cell_type": "code",
   "execution_count": 172,
   "id": "4d96dbd9",
   "metadata": {},
   "outputs": [
    {
     "name": "stdout",
     "output_type": "stream",
     "text": [
      "         Crop  Column2  Column3           Plant_Date  Column1  Region  \\\n",
      "0           3      NaN      NaN  2020-02-06 00:00:00      NaN     0.0   \n",
      "1           3      NaN      NaN  2020-02-07 00:00:00      NaN     0.0   \n",
      "2           3      NaN      NaN  2020-02-07 00:00:00      NaN     0.0   \n",
      "3           3      NaN      NaN  2020-02-08 00:00:00      NaN     0.0   \n",
      "4           3      NaN      NaN  2020-02-10 00:00:00      NaN     0.0   \n",
      "...       ...      ...      ...                  ...      ...     ...   \n",
      "2368  Ice 309      NaN      NaN                  2,1      NaN   387.0   \n",
      "2369  Ice 309      NaN      NaN                  2,2      NaN   400.0   \n",
      "2370  Ice 309      NaN      NaN                  2,3      NaN   319.0   \n",
      "2371  Ice 309      NaN      NaN                  2,4      NaN   155.0   \n",
      "2372  Ice 309      NaN      NaN                  2,5      NaN   338.0   \n",
      "\n",
      "      Column4 Planting_Batch  Volume_Planted  Planting_Wk  \n",
      "0         NaN            392        198912.0          6.0  \n",
      "1         NaN            503         63840.0          6.0  \n",
      "2         NaN            614        179928.0          6.0  \n",
      "3         NaN            725        200256.0          6.0  \n",
      "4         NaN            770         13944.0          7.0  \n",
      "...       ...            ...             ...          ...  \n",
      "2368      NaN            NaN             NaN         80.0  \n",
      "2369      NaN            NaN             NaN        274.0  \n",
      "2370      NaN            NaN             NaN        224.0  \n",
      "2371      NaN            NaN             NaN        249.0  \n",
      "2372      NaN            NaN             NaN        251.0  \n",
      "\n",
      "[2373 rows x 10 columns]\n"
     ]
    }
   ],
   "source": [
    "print(df3)"
   ]
  },
  {
   "cell_type": "code",
   "execution_count": 173,
   "id": "ea54a0ed",
   "metadata": {},
   "outputs": [],
   "source": [
    "#add missing planting dates from the plants data"
   ]
  },
  {
   "cell_type": "code",
   "execution_count": 174,
   "id": "0e95887e",
   "metadata": {},
   "outputs": [
    {
     "data": {
      "text/html": [
       "<div>\n",
       "<style scoped>\n",
       "    .dataframe tbody tr th:only-of-type {\n",
       "        vertical-align: middle;\n",
       "    }\n",
       "\n",
       "    .dataframe tbody tr th {\n",
       "        vertical-align: top;\n",
       "    }\n",
       "\n",
       "    .dataframe thead th {\n",
       "        text-align: right;\n",
       "    }\n",
       "</style>\n",
       "<table border=\"1\" class=\"dataframe\">\n",
       "  <thead>\n",
       "    <tr style=\"text-align: right;\">\n",
       "      <th></th>\n",
       "    </tr>\n",
       "  </thead>\n",
       "  <tbody>\n",
       "    <tr>\n",
       "      <th>0</th>\n",
       "    </tr>\n",
       "    <tr>\n",
       "      <th>1</th>\n",
       "    </tr>\n",
       "    <tr>\n",
       "      <th>2</th>\n",
       "    </tr>\n",
       "    <tr>\n",
       "      <th>3</th>\n",
       "    </tr>\n",
       "    <tr>\n",
       "      <th>4</th>\n",
       "    </tr>\n",
       "    <tr>\n",
       "      <th>...</th>\n",
       "    </tr>\n",
       "    <tr>\n",
       "      <th>2368</th>\n",
       "    </tr>\n",
       "    <tr>\n",
       "      <th>2369</th>\n",
       "    </tr>\n",
       "    <tr>\n",
       "      <th>2370</th>\n",
       "    </tr>\n",
       "    <tr>\n",
       "      <th>2371</th>\n",
       "    </tr>\n",
       "    <tr>\n",
       "      <th>2372</th>\n",
       "    </tr>\n",
       "  </tbody>\n",
       "</table>\n",
       "<p>2373 rows × 0 columns</p>\n",
       "</div>"
      ],
      "text/plain": [
       "Empty DataFrame\n",
       "Columns: []\n",
       "Index: [0, 1, 2, 3, 4, 5, 6, 7, 8, 9, 10, 11, 12, 13, 14, 15, 16, 17, 18, 19, 20, 21, 22, 23, 24, 25, 26, 27, 28, 29, 30, 31, 32, 33, 34, 35, 36, 37, 38, 39, 40, 41, 42, 43, 44, 45, 46, 47, 48, 49, 50, 51, 52, 53, 54, 55, 56, 57, 58, 59, 60, 61, 62, 63, 64, 65, 66, 67, 68, 69, 70, 71, 72, 73, 74, 75, 76, 77, 78, 79, 80, 81, 82, 83, 84, 85, 86, 87, 88, 89, 90, 91, 92, 93, 94, 95, 96, 97, 98, 99, ...]\n",
       "\n",
       "[2373 rows x 0 columns]"
      ]
     },
     "execution_count": 174,
     "metadata": {},
     "output_type": "execute_result"
    }
   ],
   "source": [
    "df3.dropna(axis=1)"
   ]
  },
  {
   "cell_type": "code",
   "execution_count": 175,
   "id": "251b0e1d",
   "metadata": {},
   "outputs": [],
   "source": [
    "#load weather dataset:"
   ]
  },
  {
   "cell_type": "code",
   "execution_count": 119,
   "id": "5ab1131a",
   "metadata": {},
   "outputs": [],
   "source": [
    "df4 =pd.read_excel(df,'weather')"
   ]
  },
  {
   "cell_type": "code",
   "execution_count": 120,
   "id": "36bb1f12",
   "metadata": {},
   "outputs": [],
   "source": [
    "#columns available in the dataset"
   ]
  },
  {
   "cell_type": "code",
   "execution_count": 121,
   "id": "b9239a5b",
   "metadata": {},
   "outputs": [
    {
     "data": {
      "text/plain": [
       "Index(['Unnamed: 0', 'Solar Radiation [avg]', 'Precipitation [sum]',\n",
       "       'Wind Speed [avg]', 'Wind Speed [max]', 'Battery Voltage [last]',\n",
       "       'Leaf Wetness [time]', 'Air Temperature [avg]', 'Air Temperature [max]',\n",
       "       'Air Temperature [min]', 'Relative Humidity [avg]', 'Dew Point [avg]',\n",
       "       'Dew Point [min]', 'ET0 [result]'],\n",
       "      dtype='object')"
      ]
     },
     "execution_count": 121,
     "metadata": {},
     "output_type": "execute_result"
    }
   ],
   "source": [
    "df4.columns"
   ]
  },
  {
   "cell_type": "code",
   "execution_count": 122,
   "id": "c9e771c3",
   "metadata": {},
   "outputs": [],
   "source": [
    "#output the dataset"
   ]
  },
  {
   "cell_type": "code",
   "execution_count": 123,
   "id": "322a3efd",
   "metadata": {},
   "outputs": [
    {
     "data": {
      "text/html": [
       "<div>\n",
       "<style scoped>\n",
       "    .dataframe tbody tr th:only-of-type {\n",
       "        vertical-align: middle;\n",
       "    }\n",
       "\n",
       "    .dataframe tbody tr th {\n",
       "        vertical-align: top;\n",
       "    }\n",
       "\n",
       "    .dataframe thead th {\n",
       "        text-align: right;\n",
       "    }\n",
       "</style>\n",
       "<table border=\"1\" class=\"dataframe\">\n",
       "  <thead>\n",
       "    <tr style=\"text-align: right;\">\n",
       "      <th></th>\n",
       "      <th>Unnamed: 0</th>\n",
       "      <th>Solar Radiation [avg]</th>\n",
       "      <th>Precipitation [sum]</th>\n",
       "      <th>Wind Speed [avg]</th>\n",
       "      <th>Wind Speed [max]</th>\n",
       "      <th>Battery Voltage [last]</th>\n",
       "      <th>Leaf Wetness [time]</th>\n",
       "      <th>Air Temperature [avg]</th>\n",
       "      <th>Air Temperature [max]</th>\n",
       "      <th>Air Temperature [min]</th>\n",
       "      <th>Relative Humidity [avg]</th>\n",
       "      <th>Dew Point [avg]</th>\n",
       "      <th>Dew Point [min]</th>\n",
       "      <th>ET0 [result]</th>\n",
       "    </tr>\n",
       "  </thead>\n",
       "  <tbody>\n",
       "    <tr>\n",
       "      <th>0</th>\n",
       "      <td>2014-05-14</td>\n",
       "      <td>159</td>\n",
       "      <td>0.0</td>\n",
       "      <td>1.4</td>\n",
       "      <td>3.3</td>\n",
       "      <td>6834</td>\n",
       "      <td>70</td>\n",
       "      <td>14.27</td>\n",
       "      <td>18.90</td>\n",
       "      <td>7.19</td>\n",
       "      <td>64.95</td>\n",
       "      <td>7.0</td>\n",
       "      <td>5.6</td>\n",
       "      <td>NaN</td>\n",
       "    </tr>\n",
       "    <tr>\n",
       "      <th>1</th>\n",
       "      <td>2014-05-15</td>\n",
       "      <td>280</td>\n",
       "      <td>0.0</td>\n",
       "      <td>0.6</td>\n",
       "      <td>2.3</td>\n",
       "      <td>6894</td>\n",
       "      <td>500</td>\n",
       "      <td>13.51</td>\n",
       "      <td>22.06</td>\n",
       "      <td>3.04</td>\n",
       "      <td>72.91</td>\n",
       "      <td>7.6</td>\n",
       "      <td>3.0</td>\n",
       "      <td>3.6</td>\n",
       "    </tr>\n",
       "    <tr>\n",
       "      <th>2</th>\n",
       "      <td>2014-05-16</td>\n",
       "      <td>186</td>\n",
       "      <td>3.4</td>\n",
       "      <td>0.8</td>\n",
       "      <td>2.7</td>\n",
       "      <td>6874</td>\n",
       "      <td>375</td>\n",
       "      <td>15.65</td>\n",
       "      <td>24.24</td>\n",
       "      <td>7.23</td>\n",
       "      <td>74.69</td>\n",
       "      <td>10.5</td>\n",
       "      <td>6.5</td>\n",
       "      <td>2.9</td>\n",
       "    </tr>\n",
       "    <tr>\n",
       "      <th>3</th>\n",
       "      <td>2014-05-17</td>\n",
       "      <td>221</td>\n",
       "      <td>0.0</td>\n",
       "      <td>1.0</td>\n",
       "      <td>3.3</td>\n",
       "      <td>6874</td>\n",
       "      <td>565</td>\n",
       "      <td>17.46</td>\n",
       "      <td>25.70</td>\n",
       "      <td>9.93</td>\n",
       "      <td>71.42</td>\n",
       "      <td>11.5</td>\n",
       "      <td>8.1</td>\n",
       "      <td>3.6</td>\n",
       "    </tr>\n",
       "    <tr>\n",
       "      <th>4</th>\n",
       "      <td>2014-05-18</td>\n",
       "      <td>255</td>\n",
       "      <td>0.0</td>\n",
       "      <td>2.1</td>\n",
       "      <td>5.5</td>\n",
       "      <td>6854</td>\n",
       "      <td>625</td>\n",
       "      <td>16.85</td>\n",
       "      <td>24.62</td>\n",
       "      <td>8.45</td>\n",
       "      <td>74.45</td>\n",
       "      <td>11.4</td>\n",
       "      <td>8.3</td>\n",
       "      <td>4.2</td>\n",
       "    </tr>\n",
       "    <tr>\n",
       "      <th>...</th>\n",
       "      <td>...</td>\n",
       "      <td>...</td>\n",
       "      <td>...</td>\n",
       "      <td>...</td>\n",
       "      <td>...</td>\n",
       "      <td>...</td>\n",
       "      <td>...</td>\n",
       "      <td>...</td>\n",
       "      <td>...</td>\n",
       "      <td>...</td>\n",
       "      <td>...</td>\n",
       "      <td>...</td>\n",
       "      <td>...</td>\n",
       "      <td>...</td>\n",
       "    </tr>\n",
       "    <tr>\n",
       "      <th>2551</th>\n",
       "      <td>2021-05-17</td>\n",
       "      <td>196</td>\n",
       "      <td>1.4</td>\n",
       "      <td>2.2</td>\n",
       "      <td>5.5</td>\n",
       "      <td>7166</td>\n",
       "      <td>0</td>\n",
       "      <td>10.51</td>\n",
       "      <td>14.53</td>\n",
       "      <td>8.95</td>\n",
       "      <td>99.86</td>\n",
       "      <td>10.3</td>\n",
       "      <td>8.8</td>\n",
       "      <td>NaN</td>\n",
       "    </tr>\n",
       "    <tr>\n",
       "      <th>2552</th>\n",
       "      <td>2021-05-17</td>\n",
       "      <td>173</td>\n",
       "      <td>2.8</td>\n",
       "      <td>1.8</td>\n",
       "      <td>5.5</td>\n",
       "      <td>6864</td>\n",
       "      <td>0</td>\n",
       "      <td>10.80</td>\n",
       "      <td>14.53</td>\n",
       "      <td>8.38</td>\n",
       "      <td>99.86</td>\n",
       "      <td>10.6</td>\n",
       "      <td>8.2</td>\n",
       "      <td>NaN</td>\n",
       "    </tr>\n",
       "    <tr>\n",
       "      <th>2553</th>\n",
       "      <td>2021-05-18</td>\n",
       "      <td>311</td>\n",
       "      <td>0.0</td>\n",
       "      <td>1.4</td>\n",
       "      <td>5.0</td>\n",
       "      <td>6854</td>\n",
       "      <td>0</td>\n",
       "      <td>10.29</td>\n",
       "      <td>17.14</td>\n",
       "      <td>3.15</td>\n",
       "      <td>92.94</td>\n",
       "      <td>8.8</td>\n",
       "      <td>3.0</td>\n",
       "      <td>3.4</td>\n",
       "    </tr>\n",
       "    <tr>\n",
       "      <th>2554</th>\n",
       "      <td>2021-05-19</td>\n",
       "      <td>232</td>\n",
       "      <td>6.6</td>\n",
       "      <td>1.8</td>\n",
       "      <td>5.5</td>\n",
       "      <td>6864</td>\n",
       "      <td>0</td>\n",
       "      <td>11.39</td>\n",
       "      <td>16.61</td>\n",
       "      <td>7.50</td>\n",
       "      <td>90.32</td>\n",
       "      <td>9.4</td>\n",
       "      <td>5.2</td>\n",
       "      <td>3.0</td>\n",
       "    </tr>\n",
       "    <tr>\n",
       "      <th>2555</th>\n",
       "      <td>2021-05-20</td>\n",
       "      <td>44</td>\n",
       "      <td>0.0</td>\n",
       "      <td>0.5</td>\n",
       "      <td>2.7</td>\n",
       "      <td>7158</td>\n",
       "      <td>0</td>\n",
       "      <td>6.35</td>\n",
       "      <td>9.15</td>\n",
       "      <td>3.76</td>\n",
       "      <td>99.86</td>\n",
       "      <td>6.2</td>\n",
       "      <td>3.6</td>\n",
       "      <td>NaN</td>\n",
       "    </tr>\n",
       "  </tbody>\n",
       "</table>\n",
       "<p>2556 rows × 14 columns</p>\n",
       "</div>"
      ],
      "text/plain": [
       "     Unnamed: 0  Solar Radiation [avg]  Precipitation [sum]  Wind Speed [avg]  \\\n",
       "0    2014-05-14                    159                  0.0               1.4   \n",
       "1    2014-05-15                    280                  0.0               0.6   \n",
       "2    2014-05-16                    186                  3.4               0.8   \n",
       "3    2014-05-17                    221                  0.0               1.0   \n",
       "4    2014-05-18                    255                  0.0               2.1   \n",
       "...         ...                    ...                  ...               ...   \n",
       "2551 2021-05-17                    196                  1.4               2.2   \n",
       "2552 2021-05-17                    173                  2.8               1.8   \n",
       "2553 2021-05-18                    311                  0.0               1.4   \n",
       "2554 2021-05-19                    232                  6.6               1.8   \n",
       "2555 2021-05-20                     44                  0.0               0.5   \n",
       "\n",
       "      Wind Speed [max]  Battery Voltage [last]  Leaf Wetness [time]  \\\n",
       "0                  3.3                    6834                   70   \n",
       "1                  2.3                    6894                  500   \n",
       "2                  2.7                    6874                  375   \n",
       "3                  3.3                    6874                  565   \n",
       "4                  5.5                    6854                  625   \n",
       "...                ...                     ...                  ...   \n",
       "2551               5.5                    7166                    0   \n",
       "2552               5.5                    6864                    0   \n",
       "2553               5.0                    6854                    0   \n",
       "2554               5.5                    6864                    0   \n",
       "2555               2.7                    7158                    0   \n",
       "\n",
       "      Air Temperature [avg]  Air Temperature [max]  Air Temperature [min]  \\\n",
       "0                     14.27                  18.90                   7.19   \n",
       "1                     13.51                  22.06                   3.04   \n",
       "2                     15.65                  24.24                   7.23   \n",
       "3                     17.46                  25.70                   9.93   \n",
       "4                     16.85                  24.62                   8.45   \n",
       "...                     ...                    ...                    ...   \n",
       "2551                  10.51                  14.53                   8.95   \n",
       "2552                  10.80                  14.53                   8.38   \n",
       "2553                  10.29                  17.14                   3.15   \n",
       "2554                  11.39                  16.61                   7.50   \n",
       "2555                   6.35                   9.15                   3.76   \n",
       "\n",
       "      Relative Humidity [avg]  Dew Point [avg]  Dew Point [min]  ET0 [result]  \n",
       "0                       64.95              7.0              5.6           NaN  \n",
       "1                       72.91              7.6              3.0           3.6  \n",
       "2                       74.69             10.5              6.5           2.9  \n",
       "3                       71.42             11.5              8.1           3.6  \n",
       "4                       74.45             11.4              8.3           4.2  \n",
       "...                       ...              ...              ...           ...  \n",
       "2551                    99.86             10.3              8.8           NaN  \n",
       "2552                    99.86             10.6              8.2           NaN  \n",
       "2553                    92.94              8.8              3.0           3.4  \n",
       "2554                    90.32              9.4              5.2           3.0  \n",
       "2555                    99.86              6.2              3.6           NaN  \n",
       "\n",
       "[2556 rows x 14 columns]"
      ]
     },
     "execution_count": 123,
     "metadata": {},
     "output_type": "execute_result"
    }
   ],
   "source": [
    "df4"
   ]
  },
  {
   "cell_type": "code",
   "execution_count": 124,
   "id": "1355144f",
   "metadata": {},
   "outputs": [],
   "source": [
    "#remove Nan values"
   ]
  },
  {
   "cell_type": "code",
   "execution_count": 125,
   "id": "77123d53",
   "metadata": {},
   "outputs": [],
   "source": [
    "df1.dropna(inplace=True)"
   ]
  },
  {
   "cell_type": "code",
   "execution_count": 127,
   "id": "508fc1e7",
   "metadata": {},
   "outputs": [
    {
     "data": {
      "text/html": [
       "<div>\n",
       "<style scoped>\n",
       "    .dataframe tbody tr th:only-of-type {\n",
       "        vertical-align: middle;\n",
       "    }\n",
       "\n",
       "    .dataframe tbody tr th {\n",
       "        vertical-align: top;\n",
       "    }\n",
       "\n",
       "    .dataframe thead th {\n",
       "        text-align: right;\n",
       "    }\n",
       "</style>\n",
       "<table border=\"1\" class=\"dataframe\">\n",
       "  <thead>\n",
       "    <tr style=\"text-align: right;\">\n",
       "      <th></th>\n",
       "      <th>Batch_Number</th>\n",
       "      <th>Plant_Date</th>\n",
       "      <th>Class</th>\n",
       "      <th>Fresh_Weight</th>\n",
       "      <th>Head_Weight</th>\n",
       "      <th>Radial_Diameter</th>\n",
       "      <th>Polar_Diameter</th>\n",
       "      <th>Diameter_Ratio</th>\n",
       "      <th>Leaves</th>\n",
       "      <th>Density</th>\n",
       "      <th>Leaf_Area</th>\n",
       "      <th>Square_ID</th>\n",
       "      <th>Check_Date</th>\n",
       "      <th>Flight_Date</th>\n",
       "      <th>Remove</th>\n",
       "    </tr>\n",
       "  </thead>\n",
       "  <tbody>\n",
       "  </tbody>\n",
       "</table>\n",
       "</div>"
      ],
      "text/plain": [
       "Empty DataFrame\n",
       "Columns: [Batch_Number, Plant_Date, Class, Fresh_Weight, Head_Weight, Radial_Diameter, Polar_Diameter, Diameter_Ratio, Leaves, Density, Leaf_Area, Square_ID, Check_Date, Flight_Date, Remove]\n",
       "Index: []"
      ]
     },
     "execution_count": 127,
     "metadata": {},
     "output_type": "execute_result"
    }
   ],
   "source": [
    "df1"
   ]
  },
  {
   "cell_type": "code",
   "execution_count": 128,
   "id": "38ae81ef",
   "metadata": {},
   "outputs": [],
   "source": [
    "#run predictive analysis"
   ]
  },
  {
   "cell_type": "code",
   "execution_count": 129,
   "id": "4be4f17c",
   "metadata": {},
   "outputs": [],
   "source": [
    "from sklearn import linear_model #the linear model"
   ]
  },
  {
   "cell_type": "code",
   "execution_count": 130,
   "id": "5064d53e",
   "metadata": {},
   "outputs": [],
   "source": [
    "#for x & y coefficients"
   ]
  },
  {
   "cell_type": "code",
   "execution_count": 131,
   "id": "e0a5560a",
   "metadata": {},
   "outputs": [],
   "source": [
    "X = df1[['Leaf_Area', 'Density']]\n",
    "y = df1['Head_Weight']"
   ]
  },
  {
   "cell_type": "code",
   "execution_count": 132,
   "id": "0137166f",
   "metadata": {},
   "outputs": [],
   "source": [
    "#predict"
   ]
  },
  {
   "cell_type": "code",
   "execution_count": 133,
   "id": "3acd4b73",
   "metadata": {},
   "outputs": [],
   "source": [
    "pred = linear_model.LinearRegression()"
   ]
  },
  {
   "cell_type": "code",
   "execution_count": 137,
   "id": "b7045890",
   "metadata": {},
   "outputs": [],
   "source": [
    "#run fit\n",
    "pred.fit(X, y)"
   ]
  },
  {
   "cell_type": "code",
   "execution_count": 136,
   "id": "6d9c9b39",
   "metadata": {},
   "outputs": [],
   "source": []
  },
  {
   "cell_type": "code",
   "execution_count": null,
   "id": "e0475a70",
   "metadata": {},
   "outputs": [],
   "source": []
  }
 ],
 "metadata": {
  "kernelspec": {
   "display_name": "Python 3 (ipykernel)",
   "language": "python",
   "name": "python3"
  },
  "language_info": {
   "codemirror_mode": {
    "name": "ipython",
    "version": 3
   },
   "file_extension": ".py",
   "mimetype": "text/x-python",
   "name": "python",
   "nbconvert_exporter": "python",
   "pygments_lexer": "ipython3",
   "version": "3.9.10"
  }
 },
 "nbformat": 4,
 "nbformat_minor": 5
}
